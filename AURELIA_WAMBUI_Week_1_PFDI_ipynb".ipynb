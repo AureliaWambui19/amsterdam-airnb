{
  "cells": [
    {
      "cell_type": "markdown",
      "metadata": {
        "id": "view-in-github",
        "colab_type": "text"
      },
      "source": [
        "<a href=\"https://colab.research.google.com/github/AureliaWambui19/amsterdam-airnb/blob/main/AURELIA_WAMBUI_Week_1_PFDI_ipynb%22.ipynb\" target=\"_parent\"><img src=\"https://colab.research.google.com/assets/colab-badge.svg\" alt=\"Open In Colab\"/></a>"
      ]
    },
    {
      "cell_type": "markdown",
      "metadata": {
        "id": "a2040e3d-bfb8-40b8-8861-4485db413cf7"
      },
      "source": [
        "\n",
        "\n",
        "\n",
        "\n",
        "\n",
        "\n",
        "\n",
        "\n",
        "\n",
        "\n",
        "\n",
        "\n",
        "\n",
        "\n",
        "\n",
        "\n",
        "\n",
        "\n",
        "\n",
        "\n",
        "\n",
        "> 1. DUPLICATE THIS COLAB DOCUMENT TO START WORKING ON IT: On the top-left of this page, go to File > Save a copy to drive.\n",
        "> 2. SHARE SETTINGS: In the new notebook, set the sharing settings to \"Anyone with the link\" by clicking \"Share\" on the top-right corner.\n",
        "\n",
        "<center>\n",
        "  <img src=https://teamleader.fra1.cdn.digitaloceanspaces.com/corporate/production/header/_1200x630_crop_center-center_75_none/HQ_Blog_TheUltimateProjectmanager_Header.png width=\"500\" align=\"center\" />\n",
        "</center>\n",
        "<br/>\n",
        "\n",
        "# Week 1: Clean the Airbnb Dataset (and Deploy It!)\n",
        "\n",
        "Welcome to the first week's project for *Python for Data Science*!\n",
        "\n",
        "This week's lecture and material on CoRise showed you how to effectively use NumPy to clean, read, and process data. Now having looked at the data, you might be thinking to yourself, \"Why were these these latitude and longitude columns included in the dataset for Week 1?\" 🤷 We'll put this data to use in this project, and also get a preview of how you will be expected to make forecasts of your own with this data at the end of this course! For this week's project, we are going to use that location data to make an interactive app. We hope this project gets you excited for what's to come in following weeks 🙌🙌! \n",
        "\n",
        "But first, let's process our data! \n",
        "\n",
        "---\n",
        "\n",
        "*All the information required to finish this week's project can be found by clicking on the **\"Related section on CoRise\"**-link. If you are unable to do so, please reach out to us on Slack!*"
      ],
      "id": "a2040e3d-bfb8-40b8-8861-4485db413cf7"
    },
    {
      "cell_type": "markdown",
      "metadata": {
        "id": "f86691c8-d0b3-4c58-bd5b-dcfe1c2b5ff2"
      },
      "source": [
        "## Downloading the Dataset\n",
        "\n",
        "You will need to download some prerequisite packages in order to run all the code below. Let's install them!"
      ],
      "id": "f86691c8-d0b3-4c58-bd5b-dcfe1c2b5ff2"
    },
    {
      "cell_type": "code",
      "execution_count": null,
      "metadata": {
        "id": "J3MB5-_L32bV"
      },
      "outputs": [],
      "source": [
        "%%capture\n",
        "!pip install numpy pandas streamlit gdown currencyconverter"
      ],
      "id": "J3MB5-_L32bV"
    },
    {
      "cell_type": "code",
      "execution_count": null,
      "metadata": {
        "id": "TCoESZJw7Xfs"
      },
      "outputs": [],
      "source": [
        "import numpy as np\n",
        "\n",
        "# For readability purposes, we will disable scientific notation for numbers\n",
        "np.set_printoptions(suppress=True)"
      ],
      "id": "TCoESZJw7Xfs"
    },
    {
      "cell_type": "markdown",
      "metadata": {
        "id": "jKJRJSiM8pWW"
      },
      "source": [
        "Taking a look at the `import` statements below shows that we are using a mix of Python out-of-the-box 🎁 libraries (os, shutil, gzip) alongside some custom ones (gdown, numpy). Gdown allows us to download files from Google Drive, which is where we saved our modified dataset. Gzip helps us unzip downloaded files. Shutil copies the downloaded files in the right location, and we'll use os to delete unneeded files."
      ],
      "id": "jKJRJSiM8pWW"
    },
    {
      "cell_type": "code",
      "execution_count": null,
      "metadata": {
        "colab": {
          "base_uri": "https://localhost:8080/",
          "height": 105
        },
        "id": "73934f9d-54f0-4c72-9bb3-7bfdb11419f2",
        "outputId": "a85c427e-3e50-429e-fdb7-3dff3a12b3ff"
      },
      "outputs": [
        {
          "output_type": "stream",
          "name": "stderr",
          "text": [
            "Downloading...\n",
            "From: https://drive.google.com/uc?id=13fyESiH1ZEnMV6eabAyhe20t4W6peEWK\n",
            "To: /content/WK1_Airbnb_Amsterdam_listings_proj.csv\n",
            "100%|██████████| 246k/246k [00:00<00:00, 62.0MB/s]\n"
          ]
        },
        {
          "output_type": "execute_result",
          "data": {
            "text/plain": [
              "'WK1_Airbnb_Amsterdam_listings_proj.csv'"
            ],
            "application/vnd.google.colaboratory.intrinsic+json": {
              "type": "string"
            }
          },
          "metadata": {},
          "execution_count": 155
        }
      ],
      "source": [
        "import os\n",
        "import shutil\n",
        "\n",
        "import gdown\n",
        "from numpy import genfromtxt\n",
        "\n",
        "# Download file from Google Drive\n",
        "# This file is based on data from: http://insideairbnb.com/get-the-data/\n",
        "file_id_1 = \"13fyESiH1ZEnMV6eabAyhe20t4W6peEWK\"\n",
        "downloaded_file_1 = \"WK1_Airbnb_Amsterdam_listings_proj.csv\"\n",
        "\n",
        "# Download the file from Google Drive\n",
        "gdown.download(id=file_id_1, output=downloaded_file_1)"
      ],
      "id": "73934f9d-54f0-4c72-9bb3-7bfdb11419f2"
    },
    {
      "cell_type": "markdown",
      "metadata": {
        "id": "f4f4a85f-ad1a-46c0-8978-a049fa91dd72"
      },
      "source": [
        "## Preprocessing the Dataset\n",
        "Getting this particular dataset loaded is a tad bit different from what we learned in this week's content. This time we only have 1 CSV file, so we do not need to merge it. So because there is no need to merge we can move right into data preprocessing!"
      ],
      "id": "f4f4a85f-ad1a-46c0-8978-a049fa91dd72"
    },
    {
      "cell_type": "markdown",
      "metadata": {
        "id": "5b75635e-469f-45ef-bf57-2bd22c03e7e7"
      },
      "source": [
        "#### Task 1: Find your delimiter\n",
        "\n",
        "[*\\[Related section on CoRise\\]*](https://corise.com/course/python-for-data-science/v2/module/loading-inspect-dataset#corise_cl9jxhls800403b6pf9k9nh9e)\n",
        "\n",
        "Inspect the csv file we just downloaded and look at the type of delimiter it has. Once you've found the right delimiter, use the dtype \"unicode\". "
      ],
      "id": "5b75635e-469f-45ef-bf57-2bd22c03e7e7"
    },
    {
      "cell_type": "code",
      "execution_count": null,
      "metadata": {
        "id": "887bc0b0-3a61-4cf4-a534-d9dee0f639b8"
      },
      "outputs": [],
      "source": [
        "#inspecting csv file and the delimiter\n",
        "from numpy import genfromtxt\n",
        "\n",
        "corisefile = genfromtxt(\n",
        "    downloaded_file_1, delimiter = \"|\", skip_header = False, dtype = \"unicode\"\n",
        ")"
      ],
      "id": "887bc0b0-3a61-4cf4-a534-d9dee0f639b8"
    },
    {
      "cell_type": "markdown",
      "metadata": {
        "id": "XM90mSYSgkoI"
      },
      "source": [
        "Next, output the first four columns for inspection to see if you've got the data formatted how you'd like."
      ],
      "id": "XM90mSYSgkoI"
    },
    {
      "cell_type": "code",
      "execution_count": null,
      "metadata": {
        "colab": {
          "base_uri": "https://localhost:8080/"
        },
        "id": "IVG_WkJzg0KC",
        "outputId": "5a27cc23-f7c1-4a2f-e122-059d0c730f14"
      },
      "outputs": [
        {
          "output_type": "stream",
          "name": "stdout",
          "text": [
            "the shape of our file is (5, 6174)\n",
            "the first four columns of our file are [['' '0' '1' '2']\n",
            " ['id' '23726706' '35815036' '31553121']\n",
            " ['price' '$88.00' '$105.00' '$152.00']\n",
            " ['latitude' '52.34916' '52.42419' '52.43237']\n",
            " ['longitude' '4.97879' '4.95689' '4.91821']]\n"
          ]
        }
      ],
      "source": [
        "# inspecting the first four columns and shape\n",
        "corisefile [:, :4]\n",
        "\n",
        "print(\"the shape of our file is\",corisefile .shape)\n",
        "\n",
        "print(\"the first four columns of our file are\",corisefile [:, :4])"
      ],
      "id": "IVG_WkJzg0KC"
    },
    {
      "cell_type": "code",
      "source": [
        "#inspecting the dimension and size\n",
        "corisefile.ndim\n",
        "print(\"the dimension of our file is \" ,corisefile.ndim)\n",
        "corisefile.size\n",
        "print(\"the size of our file is \",corisefile.size)"
      ],
      "metadata": {
        "colab": {
          "base_uri": "https://localhost:8080/"
        },
        "id": "9WjOlGwbg16d",
        "outputId": "e59452a3-44ed-47a5-dcd0-8a44feed7fe8"
      },
      "id": "9WjOlGwbg16d",
      "execution_count": null,
      "outputs": [
        {
          "output_type": "stream",
          "name": "stdout",
          "text": [
            "the dimension of our file is  2\n",
            "the size of our file is  30870\n"
          ]
        }
      ]
    },
    {
      "cell_type": "markdown",
      "metadata": {
        "id": "bJx2m6DnhGiS"
      },
      "source": [
        "Awesome! But notice our data is aligned a little differently than how we saw in the course materials. It's like we shifted our dataset by 90 degrees! You'll have to fix this a little bit later."
      ],
      "id": "bJx2m6DnhGiS"
    },
    {
      "cell_type": "markdown",
      "metadata": {
        "id": "6148c44a-aefe-474c-a5ab-7c7d9aad86c0"
      },
      "source": [
        "#### Task 2: Clean it up\n",
        "\n",
        "[*\\[Related section on CoRise\\]*](https://corise.com/course/python-for-data-science/v2/module/merging-datasets#corise_cl9k2znzw000t3b6poq4jg6o5)\n",
        "\n",
        "In order for your calculations to run correctly, you need to have only the \"relevant\" numbers/entries present in your dataset. This means no headers, footers, redudant IDs, etc. Can you remove the first row and column, since you won't be needing them? Verify your work by again by printing out the first four columns."
      ],
      "id": "6148c44a-aefe-474c-a5ab-7c7d9aad86c0"
    },
    {
      "cell_type": "code",
      "execution_count": null,
      "metadata": {
        "id": "62d32bbd-33e5-4dbe-b448-4f932c2119f2"
      },
      "outputs": [],
      "source": [
        "# Remove the first column and row\n",
        "#before making any changes to our file its always advisable to make a copy of the original file\n",
        "#our original file name is named corisefile ,will make a copy which we will use for the rest of the project,our copy will be named corisefileone\n",
        "corisefileone = corisefile.copy()"
      ],
      "id": "62d32bbd-33e5-4dbe-b448-4f932c2119f2"
    },
    {
      "cell_type": "code",
      "execution_count": null,
      "metadata": {
        "id": "hbCpaa2HQrI5"
      },
      "outputs": [],
      "source": [
        "# Remove the first column and row\n",
        "corisefileone = corisefileone[1:, 1:]"
      ],
      "id": "hbCpaa2HQrI5"
    },
    {
      "cell_type": "code",
      "execution_count": null,
      "metadata": {
        "colab": {
          "base_uri": "https://localhost:8080/"
        },
        "id": "XJ65QV2gI4gr",
        "outputId": "3234c7b9-4e1e-44fe-9c98-0d12e8cd2d52"
      },
      "outputs": [
        {
          "output_type": "stream",
          "name": "stdout",
          "text": [
            "the first four columns of our file are [['23726706' '35815036' '31553121' '34745823']\n",
            " ['$88.00' '$105.00' '$152.00' '$87.00']\n",
            " ['52.34916' '52.42419' '52.43237' '52.2962']\n",
            " ['4.97879' '4.95689' '4.91821' '5.01231']]\n"
          ]
        }
      ],
      "source": [
        "# printing out the first four columns\n",
        "firstfourcolumns = corisefileone[:,:4]\n",
        "print(\"the first four columns of our file are\",firstfourcolumns)"
      ],
      "id": "XJ65QV2gI4gr"
    },
    {
      "cell_type": "markdown",
      "metadata": {
        "id": "f221f2b8-872b-432b-83da-abe0c74d0e6d"
      },
      "source": [
        "#### Task 3: Wide to long\n",
        "\n",
        "[*\\[Related section on CoRise\\]*](https://corise.com/course/python-for-data-science/v2/module/loading-inspect-dataset#corise_cl9jzn1sx007e3b6p564y4yec)\n",
        "\n",
        "As stated previously, our dataset is shifted by 90 degrees. Let's shift it another 90 degrees to get it back to how we'd expect, which is in a much more readable format. Please find in the course material in CoRise the correct operation that you'd need to use to do that. Again, verify your work by printing out of the first five rows."
      ],
      "id": "f221f2b8-872b-432b-83da-abe0c74d0e6d"
    },
    {
      "cell_type": "code",
      "execution_count": null,
      "metadata": {
        "id": "b7210723-75ef-48ce-b568-2c2aeebfb013"
      },
      "outputs": [],
      "source": [
        "# shifting our dataset by  90 degrees to make it readabl\n",
        "\n",
        "corisefileone = np.transpose(corisefileone)\n"
      ],
      "id": "b7210723-75ef-48ce-b568-2c2aeebfb013"
    },
    {
      "cell_type": "code",
      "execution_count": null,
      "metadata": {
        "colab": {
          "base_uri": "https://localhost:8080/"
        },
        "id": "0caowM24WbXA",
        "outputId": "13863e6f-0787-439d-d989-418e0ec3f77e"
      },
      "outputs": [
        {
          "output_type": "stream",
          "name": "stdout",
          "text": [
            "the first five rows of our dataset are [['23726706' '$88.00' '52.34916' '4.97879']\n",
            " ['35815036' '$105.00' '52.42419' '4.95689']\n",
            " ['31553121' '$152.00' '52.43237' '4.91821']\n",
            " ['34745823' '$87.00' '52.2962' '5.01231']\n",
            " ['44586947' '$160.00' '52.31475' '5.0303']]\n"
          ]
        }
      ],
      "source": [
        "# Print out the first five rows\n",
        "# Entries: id, price, latitude, longitude\n",
        "# First five rows of updated matrix\n",
        "print(\"the first five rows of our dataset are\",corisefileone[:5, :])"
      ],
      "id": "0caowM24WbXA"
    },
    {
      "cell_type": "markdown",
      "metadata": {
        "id": "fa562426-e9b0-426a-aa1c-6c4dd8cd76ca"
      },
      "source": [
        "Now that all data is loaded properly, let's clean it up a bit like we did before by removing string characters and setting the right type 😁."
      ],
      "id": "fa562426-e9b0-426a-aa1c-6c4dd8cd76ca"
    },
    {
      "cell_type": "markdown",
      "metadata": {
        "id": "74231480-3ab7-463a-ae18-e7f7cf81764a"
      },
      "source": [
        "#### Task 4: That character is not appropriate\n",
        "\n",
        "[*\\[Related section on CoRise\\]*](https://corise.com/course/python-for-data-science/v2/module/merging-datasets#corise_cl9k3ccc7001v3b6pz8a29ekr)\n",
        "\n",
        "String characters like commas and dollar signs are yet again present in the dataset. Please find in the CoRise course materials the correct operation to filter out these two string characters from the dataset."
      ],
      "id": "74231480-3ab7-463a-ae18-e7f7cf81764a"
    },
    {
      "cell_type": "code",
      "execution_count": null,
      "metadata": {
        "id": "d912e33e-cc33-4e03-9163-7f061bac3711"
      },
      "outputs": [],
      "source": [
        "# Remove the dollar sign\n",
        "\n",
        "corisefileone = np.char.replace(corisefileone,\"$\", \"\")\n",
        "\n",
        "# Remove the comma\n",
        "\n",
        "corisefileone= np.char.replace(corisefileone,\",\",\"\")"
      ],
      "id": "d912e33e-cc33-4e03-9163-7f061bac3711"
    },
    {
      "cell_type": "markdown",
      "metadata": {
        "id": "59P9Vhe-kH06"
      },
      "source": [
        "Awesome! Now the dataset contains only numerical values allowing us to perform numerical operations... at least if we set the type right!"
      ],
      "id": "59P9Vhe-kH06"
    },
    {
      "cell_type": "markdown",
      "metadata": {
        "id": "jf6FdM8pk6BN"
      },
      "source": [
        "#### Task 5: Verification is the key to success!\n",
        "\n",
        "[*\\[Related section on CoRise\\]*](https://corise.com/course/python-for-data-science/v2/module/merging-datasets#corise_cl9k3ccc7001v3b6pz8a29ekr)\n",
        "\n",
        "Let's verify our matrix to confirm there are no more string characters present. Check to see if a dollar sign or comma still appears anywhere in the matrix. \n"
      ],
      "id": "jf6FdM8pk6BN"
    },
    {
      "cell_type": "code",
      "execution_count": null,
      "metadata": {
        "colab": {
          "base_uri": "https://localhost:8080/"
        },
        "id": "4uyt43N-CjAy",
        "outputId": "52f2c2b5-b5d8-4523-ae71-57a7789d12a3"
      },
      "outputs": [
        {
          "output_type": "execute_result",
          "data": {
            "text/plain": [
              "array([], dtype='<U18')"
            ]
          },
          "metadata": {},
          "execution_count": 165
        }
      ],
      "source": [
        "# Check if the dollar sign is in our dataset\n",
        "corisefileone[np.char.find(corisefileone,\"$\") >-1]"
      ],
      "id": "4uyt43N-CjAy"
    },
    {
      "cell_type": "code",
      "execution_count": null,
      "metadata": {
        "colab": {
          "base_uri": "https://localhost:8080/"
        },
        "id": "JjpYr2JZousV",
        "outputId": "a590cd2a-aee5-43bf-c3c2-0a129eec04a7"
      },
      "outputs": [
        {
          "output_type": "execute_result",
          "data": {
            "text/plain": [
              "array([], dtype='<U18')"
            ]
          },
          "metadata": {},
          "execution_count": 166
        }
      ],
      "source": [
        "# Check if the comma sign is in our dataset\n",
        "corisefileone[np.char.find(corisefileone, \",\") > -1]"
      ],
      "id": "JjpYr2JZousV"
    },
    {
      "cell_type": "markdown",
      "metadata": {
        "id": "ed389a6d-8ad2-46aa-b1fa-56c7851584c0"
      },
      "source": [
        "#### Task 6: Are you my type?\n",
        "\n",
        "[*\\[Related section on CoRise\\]*](https://corise.com/course/python-for-data-science/v2/module/merging-datasets#corise_cl9k3ccc7001v3b6pz8a29ekr)\n",
        "\n",
        "Enabling numerical operations (calculations) requires you to change the `dtype` from string/Unicode characters to [float of 32-bit precision](https://numpy.org/doc/stable/user/basics.types.html?highlight=data%20types). Please change the dtype of the matrix to float32.\n"
      ],
      "id": "ed389a6d-8ad2-46aa-b1fa-56c7851584c0"
    },
    {
      "cell_type": "code",
      "execution_count": null,
      "metadata": {
        "id": "c78d95bf-bf7c-4342-9004-1f80616598ff"
      },
      "outputs": [],
      "source": [
        "# Change Unicode to float32\n",
        "\n",
        "corisefileone = corisefileone.astype(float)\n",
        "\n",
        "\n",
        "\n"
      ],
      "id": "c78d95bf-bf7c-4342-9004-1f80616598ff"
    },
    {
      "cell_type": "code",
      "execution_count": null,
      "metadata": {
        "colab": {
          "base_uri": "https://localhost:8080/"
        },
        "id": "3eknUuoxGhWm",
        "outputId": "9441b0de-45cb-4927-a624-9fb41680996a"
      },
      "outputs": [
        {
          "output_type": "stream",
          "name": "stdout",
          "text": [
            "the new datatype of our dataset is float64\n"
          ]
        }
      ],
      "source": [
        "# verifying if the changes(from unicode to float have been effected)\n",
        "#\n",
        "print(\"the new datatype of our dataset is\",corisefileone.dtype)"
      ],
      "id": "3eknUuoxGhWm"
    },
    {
      "cell_type": "code",
      "source": [
        "# Print out the first five rows (and inspect the dtype for correctness)\n",
        "# Entries: airbnb_id, price_usd, latitude, longitude\n",
        "\n",
        "corisefileone[:5,:]\n"
      ],
      "metadata": {
        "colab": {
          "base_uri": "https://localhost:8080/"
        },
        "id": "DTXqREpOWjQv",
        "outputId": "7e8bec7c-60f2-43d9-dd4b-33d8689c7f29"
      },
      "id": "DTXqREpOWjQv",
      "execution_count": null,
      "outputs": [
        {
          "output_type": "execute_result",
          "data": {
            "text/plain": [
              "array([[23726706.     ,       88.     ,       52.34916,        4.97879],\n",
              "       [35815036.     ,      105.     ,       52.42419,        4.95689],\n",
              "       [31553121.     ,      152.     ,       52.43237,        4.91821],\n",
              "       [34745823.     ,       87.     ,       52.2962 ,        5.01231],\n",
              "       [44586947.     ,      160.     ,       52.31475,        5.0303 ]])"
            ]
          },
          "metadata": {},
          "execution_count": 169
        }
      ]
    },
    {
      "cell_type": "markdown",
      "metadata": {
        "id": "16249349-8d37-4d24-b0c4-8a416aeda7ea"
      },
      "source": [
        "## The Price Is Right\n",
        "\n",
        "<center>\n",
        "  <img src=https://wwwimage-tve.cbsstatic.com/thumbnails/photos/w400-q80/blog/tpir-logo-promo_0_0.jpg width=\"500\" align=\"center\" />\n",
        "</center>\n",
        "<br/>\n",
        "\n",
        "[*\\[Related section on CoRise\\]*](https://corise.com/course/python-for-data-science/v2/module/math-superpowers#corise_cl9k5z30h005w3b6p5jv0vs82)\n",
        "\n",
        "Since all our values in the matrix are now recognized as numbers, we can perform some awesome calcultions! \n",
        "\n",
        "Our next objective is to change the currency from US dollars to another currency. This can be any currency you like, except for the US dollar. Let's first import the library that helps us to make these conversions. Then let's have another look at the first 5 rows of our matrix."
      ],
      "id": "16249349-8d37-4d24-b0c4-8a416aeda7ea"
    },
    {
      "cell_type": "code",
      "execution_count": null,
      "metadata": {
        "colab": {
          "base_uri": "https://localhost:8080/"
        },
        "id": "93e4e8b3-6f19-4e31-a324-2bd94dc461a2",
        "outputId": "33ef0a4a-f9a5-40bd-9de1-7bf381ee5cfc"
      },
      "outputs": [
        {
          "output_type": "execute_result",
          "data": {
            "text/plain": [
              "array([[23726706.     ,       88.     ,       52.34916,        4.97879],\n",
              "       [35815036.     ,      105.     ,       52.42419,        4.95689],\n",
              "       [31553121.     ,      152.     ,       52.43237,        4.91821],\n",
              "       [34745823.     ,       87.     ,       52.2962 ,        5.01231],\n",
              "       [44586947.     ,      160.     ,       52.31475,        5.0303 ]])"
            ]
          },
          "metadata": {},
          "execution_count": 170
        }
      ],
      "source": [
        "from currency_converter import CurrencyConverter\n",
        "\n",
        "cc = CurrencyConverter()\n",
        "\n",
        "# Entries: airbnb_id, price_usd, latitude, longitude\n",
        "corisefileone[:5,:]\n",
        "\n"
      ],
      "id": "93e4e8b3-6f19-4e31-a324-2bd94dc461a2"
    },
    {
      "cell_type": "markdown",
      "metadata": {
        "id": "yu69KkfA9kMl"
      },
      "source": [
        "The currency conversion calculations you'll be performing should be applied to the second column. \n",
        "\n",
        "As a reminder, you should use the number \"1\" which represents the second column of the matrix, since indexes start at the number zero.\n",
        "\n",
        "Please only output the second column below:"
      ],
      "id": "yu69KkfA9kMl"
    },
    {
      "cell_type": "code",
      "execution_count": null,
      "metadata": {
        "colab": {
          "base_uri": "https://localhost:8080/"
        },
        "id": "cf6d4cdd-ae46-4be5-9204-537f45d9b4f4",
        "outputId": "306aad8b-6b86-4b33-de22-1f78c138bb43"
      },
      "outputs": [
        {
          "output_type": "stream",
          "name": "stdout",
          "text": [
            "The second column of our dataset that contains prices in us dollars is \n",
            " [ 88. 105. 152. ... 180. 174.  65.]\n"
          ]
        }
      ],
      "source": [
        "print(\"The second column of our dataset that contains prices in us dollars is \\n\", corisefileone[:, 1])"
      ],
      "id": "cf6d4cdd-ae46-4be5-9204-537f45d9b4f4"
    },
    {
      "cell_type": "markdown",
      "metadata": {
        "id": "MuUQATyL-CNj"
      },
      "source": [
        "#### Task 7: Pick any currency\n",
        "\n",
        "[*\\[Related section on CoRise\\]*](https://corise.com/course/python-for-data-science/v2/module/math-superpowers#corise_cl9k5z30h005w3b6p5jv0vs82)\n",
        "\n",
        "The tool you'll be using has a total of 42 currencies. Please select one of them, and use it to convert the dollars into your chosen currency. You can check which are available by running:"
      ],
      "id": "MuUQATyL-CNj"
    },
    {
      "cell_type": "code",
      "execution_count": null,
      "metadata": {
        "colab": {
          "base_uri": "https://localhost:8080/"
        },
        "id": "KhehQKENWBLm",
        "outputId": "221e75ab-6208-4ec5-ccb7-a5e53f3fa6e5"
      },
      "outputs": [
        {
          "output_type": "execute_result",
          "data": {
            "text/plain": [
              "{'AUD',\n",
              " 'BGN',\n",
              " 'BRL',\n",
              " 'CAD',\n",
              " 'CHF',\n",
              " 'CNY',\n",
              " 'CYP',\n",
              " 'CZK',\n",
              " 'DKK',\n",
              " 'EEK',\n",
              " 'EUR',\n",
              " 'GBP',\n",
              " 'HKD',\n",
              " 'HRK',\n",
              " 'HUF',\n",
              " 'IDR',\n",
              " 'ILS',\n",
              " 'INR',\n",
              " 'ISK',\n",
              " 'JPY',\n",
              " 'KRW',\n",
              " 'LTL',\n",
              " 'LVL',\n",
              " 'MTL',\n",
              " 'MXN',\n",
              " 'MYR',\n",
              " 'NOK',\n",
              " 'NZD',\n",
              " 'PHP',\n",
              " 'PLN',\n",
              " 'ROL',\n",
              " 'RON',\n",
              " 'RUB',\n",
              " 'SEK',\n",
              " 'SGD',\n",
              " 'SIT',\n",
              " 'SKK',\n",
              " 'THB',\n",
              " 'TRL',\n",
              " 'TRY',\n",
              " 'USD',\n",
              " 'ZAR'}"
            ]
          },
          "metadata": {},
          "execution_count": 172
        }
      ],
      "source": [
        "cc.currencies"
      ],
      "id": "KhehQKENWBLm"
    },
    {
      "cell_type": "markdown",
      "metadata": {
        "id": "cj7Y4mPPWBUY"
      },
      "source": [
        "A suggestion for those who don't know which to choose: Feel free to use GBP."
      ],
      "id": "cj7Y4mPPWBUY"
    },
    {
      "cell_type": "code",
      "execution_count": null,
      "metadata": {
        "colab": {
          "base_uri": "https://localhost:8080/"
        },
        "id": "3b1b9df8-6b29-41a8-8bce-1a51bb710ec9",
        "outputId": "05dff8c2-5616-4366-afc5-cc4c2170a9e2"
      },
      "outputs": [
        {
          "output_type": "stream",
          "name": "stdout",
          "text": [
            "0.9733307377846991\n",
            "The second column of our dataset that contains changes of prices from us  dollars  to euros is \n",
            " [ 85.65310493 102.19972747 147.94627214 ... 175.1995328  169.35954837\n",
            "  63.26649796]\n"
          ]
        }
      ],
      "source": [
        "# Get the rate of conversaton from the US dollar to your currency of choice \n",
        "#method one when you declare the rate without using the currency converter library\n",
        "useurorate = 0.9733307377846991\n",
        "\n",
        "print(useurorate)\n",
        "\n",
        "# Multiply the dollar column by your currency of choice\n",
        "corisefileone[:, 1] = corisefileone[:, 1] * useurorate\n",
        " \n",
        " \n",
        "#printing the second column to verify the changes in currency from us dollar to eurorate\n",
        "print(\"The second column of our dataset that contains changes of prices from us  dollars  to euros is \\n\", corisefileone[:, 1])"
      ],
      "id": "3b1b9df8-6b29-41a8-8bce-1a51bb710ec9"
    },
    {
      "cell_type": "code",
      "source": [
        "# Get the rate of conversaton from the US dollar to your currency of choice \n",
        "#method two using the currency converter library\n",
        "from currency_converter import CurrencyConverter\n",
        "\n",
        "cc = CurrencyConverter()\n",
        "eurorate = cc.convert(1, \"USD\", \"EUR\")\n",
        "print(eurorate)\n",
        "# Multiply the dollar column by your currency of choice\n",
        "corisefileone[:, 1] = corisefileone[:, 1] * eurorate\n",
        " \n",
        " \n",
        "#printing the second column to verify the changes in currency from us dollar to eurorate\n",
        "print(\"The second column of our dataset that contains changes of prices from us  dollars  to euros is \\n\", corisefileone[:, 1])"
      ],
      "metadata": {
        "colab": {
          "base_uri": "https://localhost:8080/"
        },
        "id": "9L7vvf7RXDzi",
        "outputId": "f607cba1-8c76-4c3f-9a6c-0125295635de"
      },
      "id": "9L7vvf7RXDzi",
      "execution_count": null,
      "outputs": [
        {
          "output_type": "stream",
          "name": "stdout",
          "text": [
            "0.9733307377846991\n",
            "The second column of our dataset that contains changes of prices from us  dollars  to euros is \n",
            " [ 83.36879981  99.47413614 144.00065422 ... 170.52709052 164.84285417\n",
            "  61.57922713]\n"
          ]
        }
      ]
    },
    {
      "cell_type": "markdown",
      "metadata": {
        "id": "440efa8a-3c39-4615-a65a-e8ba956d6a9f"
      },
      "source": [
        "#### Task 8: Inflation!\n",
        "\n",
        "[*\\[Related section on CoRise\\]*](https://corise.com/course/python-for-data-science/v2/module/math-superpowers#corise_cl9k5z30h005w3b6p5jv0vs82)\n",
        "\n",
        "Recent inflation all around the world has caused many companies to raise their prices. Consequently, Airbnb listings have also raised their prices by a certain amount. Find the 2022 annual inflation rate for your currency of choice. If you can't find the inflation rate online, use 7% as value. Apply this inflation rate to our newly updated prices."
      ],
      "id": "440efa8a-3c39-4615-a65a-e8ba956d6a9f"
    },
    {
      "cell_type": "code",
      "execution_count": null,
      "metadata": {
        "id": "b9b77c45-ad45-424d-a826-91cc86712df6"
      },
      "outputs": [],
      "source": [
        "# Multiply the dollar column by the inflation percentage (1.00 + inflation)\n",
        "corisefileone[:, 1] = corisefileone[:, 1] * 1.07\n"
      ],
      "id": "b9b77c45-ad45-424d-a826-91cc86712df6"
    },
    {
      "cell_type": "code",
      "source": [
        "#verifying the changes in inflation\n",
        "print(\"The second column of our dataset that inflation prices changes is \\n\", corisefileone[:, 1])"
      ],
      "metadata": {
        "colab": {
          "base_uri": "https://localhost:8080/"
        },
        "id": "FQF4kXbw62hj",
        "outputId": "71753ea7-e237-446d-be79-6fd8a31521c0"
      },
      "id": "FQF4kXbw62hj",
      "execution_count": null,
      "outputs": [
        {
          "output_type": "stream",
          "name": "stdout",
          "text": [
            "The second column of our dataset that inflation prices changes is \n",
            " [ 89.2046158  106.43732567 154.08070001 ... 182.46398686 176.38185396\n",
            "  65.88977303]\n"
          ]
        }
      ]
    },
    {
      "cell_type": "markdown",
      "metadata": {
        "id": "3580b8ee-594a-4a79-8207-df656f23450c"
      },
      "source": [
        "#### Task 9: Too many decimals!\n",
        "\n",
        "[*\\[Related section on CoRise\\]*](https://corise.com/course/python-for-data-science/v2/module/math-superpowers#corise_cl9k5z30h005w3b6p5jv0vs82)\n",
        "\n",
        "You might have some prices longer than two decimals after changing the currency and adjusting the price for inflation. Please round the prices **down** to the nearest two decimals using a NumPy native function. [Here's a hint.](https://numpy.org/doc/stable/reference/generated/numpy.round_.html)"
      ],
      "id": "3580b8ee-594a-4a79-8207-df656f23450c"
    },
    {
      "cell_type": "code",
      "execution_count": null,
      "metadata": {
        "colab": {
          "base_uri": "https://localhost:8080/"
        },
        "id": "4f62b24b-fb75-406d-92f0-033e1afec123",
        "outputId": "ddd5257a-54e7-4923-eb66-7539c174bebd"
      },
      "outputs": [
        {
          "output_type": "stream",
          "name": "stdout",
          "text": [
            "inflation prices to two decimal places is \n",
            " [ 89.2  106.44 154.08 ... 182.46 176.38  65.89]\n"
          ]
        }
      ],
      "source": [
        "# Round down the new currency column to 2 decimals\n",
        "\n",
        "inflation2decimalplace = np.round_(corisefileone[:, 1], decimals =2)\n",
        "print (\"inflation prices to two decimal places is \\n\", inflation2decimalplace )"
      ],
      "id": "4f62b24b-fb75-406d-92f0-033e1afec123"
    },
    {
      "cell_type": "markdown",
      "metadata": {
        "id": "6ec2a91e-8252-4fd2-86b0-919adb15b6d0"
      },
      "source": [
        "## Where u (want to be) at?\n",
        "\n",
        "\n",
        "<center>\n",
        "  <img src=https://media.timeout.com/images/105504583/750/422/image.jpg width=\"500\" align=\"center\" />\n",
        "</center>\n",
        "<br/>\n",
        "\n",
        "Amsterdam is a city with a long history and a rich international culture, so there is always [something interesting to see and do](https://www.iamsterdam.com/en/see-and-do/things-to-do/top-20-things-to-do-in-amsterdam). What if you were to visit Amsterdam? You'd probably want to have your Airbnb close to your favorite spot!"
      ],
      "id": "6ec2a91e-8252-4fd2-86b0-919adb15b6d0"
    },
    {
      "cell_type": "markdown",
      "metadata": {
        "id": "08eb3f54-9af1-483a-b6ac-354d6c77d77e"
      },
      "source": [
        "#### Task 10: Choose your location\n",
        "\n",
        "Look up a place you'd like to visit in Amsterdam's city center, along with its longitude and latitude. We want to save this for choosing an Airbnb listing to our liking. You can get coordinates from [Google](https://www.google.com/) by searching like so:\n",
        "\n",
        "<center>\n",
        "  <img src=https://i.ibb.co/XXdkH3z/Screen-Shot-2022-10-24-at-2-42-54-PM.png width=\"500\" align=\"center\" />\n",
        "</center>\n",
        "<br/>\n",
        "\n",
        "\n"
      ],
      "id": "08eb3f54-9af1-483a-b6ac-354d6c77d77e"
    },
    {
      "cell_type": "code",
      "execution_count": null,
      "metadata": {
        "id": "61014b50-cceb-4f75-9d4f-639c197eec52"
      },
      "outputs": [],
      "source": [
        "# Favorite location\n",
        "latitude =  52.294730 \n",
        "longitude = 4.915337"
      ],
      "id": "61014b50-cceb-4f75-9d4f-639c197eec52"
    },
    {
      "cell_type": "markdown",
      "metadata": {
        "id": "4caaddc7-403f-4ed1-8593-2d1085bff3f7"
      },
      "source": [
        "## Listing All Listings\n",
        "\n",
        "<center>\n",
        "  <img src=https://images0.persgroep.net/rcs/vnd5KBhggcKV72YJjpLWH_-xljU/diocontent/131036963/_crop/34/170/1378/778/_fitwidth/763?appId=93a17a8fd81db0de025c8abd1cca1279&quality=0.8&desiredformat=webp width=\"500\" align=\"center\" />\n",
        "</center>\n",
        "<br/>\n",
        "\n",
        "Imagine Airbnb Amsterdam decided to deviate from Airbnb Global and provide a feature on their website that showed the best listings for you based on the locations you were planning to visit. Wouldn't it make sense to choose a place to stay in a location closest to where you're likely to go most often?\n",
        "\n",
        "So this is the most exciting part: You're going to calculate just that! You will limit your results to your favorite location in Amsterdam (as chosen above) and the surrounding available Airbnb listings using math and NumPy!\n",
        "\n",
        "We've already provided you with the math calculations down below. Please make sure to run that method!\n",
        "\n",
        "You'll have to use this method in a `for` loop or by using [`np.vectorize`](https://numpy.org/doc/stable/reference/generated/numpy.vectorize.html) as was shown on CoRise. "
      ],
      "id": "4caaddc7-403f-4ed1-8593-2d1085bff3f7"
    },
    {
      "cell_type": "code",
      "execution_count": null,
      "metadata": {
        "id": "b8911e6f-321f-4d93-9e8a-feb558fb2502"
      },
      "outputs": [],
      "source": [
        "import math\n",
        "\n",
        "def from_location_to_airbnb_listing_in_meters(lat1: float, lon1: float, lat2: list, lon2: list):\n",
        "    # Source: https://community.esri.com/t5/coordinate-reference-systems-blog\n",
        "    # /distance-on-a-sphere-the-haversine-formula/ba-p/902128\n",
        "    \n",
        "    R = 6371000  # Radius of Earth in meters\n",
        "    phi_1 = math.radians(lat1)\n",
        "    phi_2 = math.radians(lat2)\n",
        "\n",
        "    delta_phi = math.radians(lat2 - lat1)\n",
        "    delta_lambda = math.radians(lon2 - lon1)\n",
        "\n",
        "    a = (\n",
        "        math.sin(delta_phi / 2.0) ** 2\n",
        "        + math.cos(phi_1) * math.cos(phi_2) * math.sin(delta_lambda / 2.0) ** 2\n",
        "    )\n",
        "\n",
        "    c = 2 * math.atan2(math.sqrt(a), math.sqrt(1 - a))\n",
        "\n",
        "    meters = R * c  # Output distance in meters\n",
        "\n",
        "    return round(meters, 0)"
      ],
      "id": "b8911e6f-321f-4d93-9e8a-feb558fb2502"
    },
    {
      "cell_type": "markdown",
      "metadata": {
        "id": "1d059854-9eba-4c1e-bfbd-3aea2f3017ad"
      },
      "source": [
        "#### Task 11: Loop or vectorize!\n",
        "\n",
        "[*\\[Related section on CoRise\\]*](https://corise.com/course/python-for-data-science/v2/module/math-superpowers#corise_cl9k5z30h005w3b6p5jv0vs82)\n",
        "\n",
        "Please implement a `for` loop (or vectorize) the `from_location_to_airbnb_listing_in_meters` function. ***For now just calculate these numbers. Don't add it as a new column to your matrix.***"
      ],
      "id": "1d059854-9eba-4c1e-bfbd-3aea2f3017ad"
    },
    {
      "cell_type": "code",
      "execution_count": null,
      "metadata": {
        "colab": {
          "base_uri": "https://localhost:8080/"
        },
        "id": "997ec8fa-5cc1-4fd3-ae01-fd53e0ffc0d6",
        "outputId": "10b8d6e5-46ff-4a6c-dff2-18e1cc2ff585"
      },
      "outputs": [
        {
          "output_type": "stream",
          "name": "stdout",
          "text": [
            "<numpy.vectorize object at 0x7f4e9eda8100>\n"
          ]
        }
      ],
      "source": [
        "# Create a loop or vectorized way to calculate the distance,\n",
        "# going over all latitude and longitude entries in the dataset\n",
        "\n",
        "convert_vec = np.vectorize(from_location_to_airbnb_listing_in_meters)\n",
        "\n",
        "print(convert_vec)\n",
        "\n",
        "\n"
      ],
      "id": "997ec8fa-5cc1-4fd3-ae01-fd53e0ffc0d6"
    },
    {
      "cell_type": "markdown",
      "metadata": {
        "id": "_JmXLcq4C7EB"
      },
      "source": [
        "Now let's use the `timeit` function to see how quickly the code is ran!\n",
        "\n",
        "[*\\[Related section on CoRise\\]*](https://corise.com/course/python-for-data-science/v2/module/math-superpowers#corise_cl9k5z30h005w3b6p5jv0vs82)"
      ],
      "id": "_JmXLcq4C7EB"
    },
    {
      "cell_type": "code",
      "execution_count": null,
      "metadata": {
        "colab": {
          "base_uri": "https://localhost:8080/"
        },
        "id": "m1oqM9C2D4sJ",
        "outputId": "bf1ce70a-6541-4471-ac35-e7e09e1ee562"
      },
      "outputs": [
        {
          "output_type": "stream",
          "name": "stdout",
          "text": [
            "15.7 ms ± 929 µs per loop (mean ± std. dev. of 4 runs, 100 loops each)\n"
          ]
        }
      ],
      "source": [
        "%%timeit -r 4 -n 100\n",
        "# Allow a Python function to be used in a (semi-)vectorized way\n",
        "convert_vec = np.vectorize(from_location_to_airbnb_listing_in_meters)\n",
        "\n",
        "# Apply the function, use timeit\n",
        "convert_vec(latitude, longitude, corisefileone[:, 2], corisefileone[:, 3])"
      ],
      "id": "m1oqM9C2D4sJ"
    },
    {
      "cell_type": "markdown",
      "metadata": {
        "id": "080e07c8-2e37-4a46-89f0-6b73048697e5"
      },
      "source": [
        "## Can We Do It Faster?\n",
        "\n",
        "<center>\n",
        "  <img src=https://upload.wikimedia.org/wikipedia/commons/9/9f/Serengeti_Lion_Running_saturated.jpg width=\"500\" align=\"center\" />\n",
        "</center>\n",
        "<br/>\n",
        "\n",
        "Now you might be thinking to yourself, *can we do this faster*? \n",
        "\n",
        "The answer is ***YES***! \n",
        "\n",
        "But please remember that optimization is always a trade-off between the need for speed and the need for delivery of your results!"
      ],
      "id": "080e07c8-2e37-4a46-89f0-6b73048697e5"
    },
    {
      "cell_type": "markdown",
      "metadata": {
        "id": "bab0fd01-6c42-46eb-b68a-28e66d63c2c6"
      },
      "source": [
        "---\n",
        "\n",
        "#### (Extra Credit)  Task 12: NumPy all the way!\n",
        "\n",
        "[*\\[Related section on CoRise\\]*](https://corise.com/course/python-for-data-science/v2/module/math-superpowers#corise_cl9k5z30h005w3b6p5jv0vs82)\n",
        "\n",
        "Now convert the `from_location_to_airbnb_listing_in_meters` function into a pure NumPy function. You can do this by changing all the imported math functions into their NumPy variant. ***For now just calculate these numbers. Don't add it as a new column to your matrix.***"
      ],
      "id": "bab0fd01-6c42-46eb-b68a-28e66d63c2c6"
    },
    {
      "cell_type": "code",
      "execution_count": null,
      "metadata": {
        "id": "b5a1712a-1b01-40c8-8d21-706001b22910"
      },
      "outputs": [],
      "source": [
        "def from_location_to_airbnb_listing_in_meters(lat1: float, lon1: float, lat2: list, lon2: list):   \n",
        "    R = 6371000  # Radius of Earth in meters\n",
        "    phi_1 = np.radians(lat1) # CHANGE THIS\n",
        "    phi_2 = np.radians(lat2) # CHANGE THIS\n",
        "\n",
        "    delta_phi = np.radians(lat2 - lat1) # CHANGE THIS\n",
        "    delta_lambda = np.radians(lon2 - lon1) # CHANGE THIS\n",
        "\n",
        "    a = (\n",
        "        np.sin(delta_phi / 2.0) ** 2 # CHANGE THIS\n",
        "        + np.cos(phi_1) * np.cos(phi_2) * np.sin(delta_lambda / 2.0) ** 2 # CHANGE THIS (3x)\n",
        "    )\n",
        "\n",
        "    c = 2 * np.tan(np.sqrt(a), np.sqrt(1 - a)) # CHANGE THIS (3x)\n",
        "\n",
        "    meters = R * c  # Output distance in meters\n",
        "\n",
        "    return np.round(meters, 0) # CHANGE THIS"
      ],
      "id": "b5a1712a-1b01-40c8-8d21-706001b22910"
    },
    {
      "cell_type": "code",
      "execution_count": null,
      "metadata": {
        "colab": {
          "base_uri": "https://localhost:8080/"
        },
        "id": "532a16a5-d82b-4f70-a94e-5c78c5caab15",
        "outputId": "8d545ce5-e378-4a66-9169-156a12dadc6b"
      },
      "outputs": [
        {
          "output_type": "stream",
          "name": "stdout",
          "text": [
            "[ 7432. 14669. 15306. ... 14650.  4436.  5740.]\n"
          ]
        }
      ],
      "source": [
        "# Run the converted NumPy method and check if it works\n",
        "numpy_method = from_location_to_airbnb_listing_in_meters(latitude, longitude, corisefileone[:, 2], corisefileone[:, 3])\n",
        "\n",
        "print(numpy_method)"
      ],
      "id": "532a16a5-d82b-4f70-a94e-5c78c5caab15"
    },
    {
      "cell_type": "markdown",
      "metadata": {
        "id": "7G3KvDaeF9YD"
      },
      "source": [
        "#### (Extra Credit) Task 13: How much faster is it?\n",
        "\n",
        "[*\\[Related section on CoRise\\]*](https://corise.com/course/python-for-data-science/v2/module/math-superpowers#corise_cl9k5z30h005w3b6p5jv0vs82)\n",
        "\n",
        "Use the `timeit` function so we can compare it to the outcome of the prior task. This should be very similar to the `timeit`-code that was used below Task 11."
      ],
      "id": "7G3KvDaeF9YD"
    },
    {
      "cell_type": "code",
      "execution_count": null,
      "metadata": {
        "colab": {
          "base_uri": "https://localhost:8080/"
        },
        "id": "xJjqvkBGGMT4",
        "outputId": "e68a5abc-46f2-4bfd-8422-a56d839dfcbc"
      },
      "outputs": [
        {
          "output_type": "stream",
          "name": "stdout",
          "text": [
            "499 µs ± 67.6 µs per loop (mean ± std. dev. of 4 runs, 100 loops each)\n"
          ]
        }
      ],
      "source": [
        "%%timeit -r 4 -n 100\n",
        "# Copy the code from Task 12 and add a timeit function above this comment\n",
        "\n",
        "numpy_method = from_location_to_airbnb_listing_in_meters(latitude, longitude, corisefileone[:, 2], corisefileone[:, 3])\n"
      ],
      "id": "xJjqvkBGGMT4"
    },
    {
      "cell_type": "markdown",
      "metadata": {
        "id": "3Wwjec7vHDK_"
      },
      "source": [
        "WOW! You see a massive speed-up just by switching your functions from default Python functions to their NumPy variants! Awesome!\n",
        "\n",
        "---"
      ],
      "id": "3Wwjec7vHDK_"
    },
    {
      "cell_type": "markdown",
      "metadata": {
        "id": "dc1d3c93-b298-4d7f-9382-5d97efd7d675"
      },
      "source": [
        "## Prep the Dataset for Download!\n",
        "\n",
        "\n",
        "Now that we've created a function to calculate the distance in meters for every Airbnb listing, we'll perform this calculation on the entire dataset and add the outputs to the matrix as a new column.\n",
        "\n",
        "Next to that, we'll add another column that contains only ones and zeros to represent the \"color\" of an entry/row. This column can be used later if you want to turn this dataset into an app using [Streamlit](https://streamlit.io/). This resource is great for when you want to translate your Python projects into an interactive website. More on that in the next section.\n",
        "\n",
        "As you'll see from the code, we'll also add our favorite location as an entry/row. (We've selected the coordinates of the Rijksmuseum. Feel free to change it to your favorite location in Amsterdam). \n",
        "\n",
        "\n"
      ],
      "id": "dc1d3c93-b298-4d7f-9382-5d97efd7d675"
    },
    {
      "cell_type": "code",
      "execution_count": null,
      "metadata": {
        "id": "587b2c11-6b59-4075-b002-be8516c62b2d"
      },
      "outputs": [],
      "source": [
        "# Run the previous method\n",
        "meters = from_location_to_airbnb_listing_in_meters(\n",
        "    latitude, longitude, corisefileone[:, 2], corisefileone[:, 3]\n",
        ")\n",
        "\n",
        "# Add an axis to make concatenation possible\n",
        "meters = meters.reshape(-1, 1)\n",
        "\n",
        "# Append the distance in meters to the matrix\n",
        "corisefileone = np.concatenate((corisefileone, meters), axis=1)"
      ],
      "id": "587b2c11-6b59-4075-b002-be8516c62b2d"
    },
    {
      "cell_type": "code",
      "execution_count": null,
      "metadata": {
        "colab": {
          "base_uri": "https://localhost:8080/"
        },
        "id": "e60a7c93-fe1c-46d9-9e63-0e8635b0966d",
        "outputId": "0d069eab-2028-4935-c81d-f9701468cc1b"
      },
      "outputs": [
        {
          "output_type": "execute_result",
          "data": {
            "text/plain": [
              "array([[       1.        ,        0.        ,       52.29473   ,\n",
              "               4.915337  ,        0.        ,        1.        ],\n",
              "       [23726706.        ,       89.2046158 ,       52.34916   ,\n",
              "               4.97879   ,     7432.        ,        0.        ],\n",
              "       [35815036.        ,      106.43732567,       52.42419   ,\n",
              "               4.95689   ,    14669.        ,        0.        ],\n",
              "       [31553121.        ,      154.08070001,       52.43237   ,\n",
              "               4.91821   ,    15306.        ,        0.        ],\n",
              "       [34745823.        ,       88.19092698,       52.2962    ,\n",
              "               5.01231   ,     6597.        ,        0.        ]])"
            ]
          },
          "metadata": {},
          "execution_count": 186
        }
      ],
      "source": [
        "# Append a color to the matrix\n",
        "colors = np.zeros(meters.shape)\n",
        "corisefileone = np.concatenate((corisefileone, colors), axis=1)\n",
        "\n",
        "# Append our entry to the matrix\n",
        "fav_entry = np.array([1, 0, 52.294730 , 4.915337, 0, 1]).reshape(1, -1) # Change coordinates to your favorite location\n",
        "corisefileone = np.concatenate((fav_entry, corisefileone), axis=0)\n",
        "\n",
        "# Entries: airbnb_id, price, latitude, longitude,\n",
        "# meters from favorite point, color\n",
        "corisefileone[:5, :]"
      ],
      "id": "e60a7c93-fe1c-46d9-9e63-0e8635b0966d"
    },
    {
      "cell_type": "code",
      "source": [
        "# Favorite location\n",
        "latitude =  52.294730 \n",
        "longitude = 4.915337"
      ],
      "metadata": {
        "id": "79nFu6f6Ille"
      },
      "id": "79nFu6f6Ille",
      "execution_count": null,
      "outputs": []
    },
    {
      "cell_type": "code",
      "execution_count": null,
      "metadata": {
        "id": "2c9f02e3-9af7-4eb0-845d-96748114c5b3"
      },
      "outputs": [],
      "source": [
        "# Export the data to use in the primer for next week\n",
        "np.savetxt(\"WK1_Airbnb_Amsterdam_listings_proj_solution.csv\", corisefileone, delimiter=\"|\")"
      ],
      "id": "2c9f02e3-9af7-4eb0-845d-96748114c5b3"
    },
    {
      "cell_type": "markdown",
      "metadata": {
        "id": "6YaljvSnHlwx"
      },
      "source": [
        "Great! By running all the cells above, you've saved the matrix here on your Google Colab instance. Let's now look into how to download the dataset to your local machine."
      ],
      "id": "6YaljvSnHlwx"
    },
    {
      "cell_type": "markdown",
      "metadata": {
        "id": "vtFPkCD49UbC"
      },
      "source": [
        "### Download the Dataset to Your Local Machine!\n",
        "\n",
        "Google Colab comes with its own Python packages, allowing us to quickly download generated files like so:"
      ],
      "id": "vtFPkCD49UbC"
    },
    {
      "cell_type": "code",
      "execution_count": null,
      "metadata": {
        "colab": {
          "base_uri": "https://localhost:8080/",
          "height": 17
        },
        "id": "x0nVFL3_6bCC",
        "outputId": "9163caad-f9a0-403d-9880-1131987c49a3"
      },
      "outputs": [
        {
          "output_type": "display_data",
          "data": {
            "text/plain": [
              "<IPython.core.display.Javascript object>"
            ],
            "application/javascript": [
              "\n",
              "    async function download(id, filename, size) {\n",
              "      if (!google.colab.kernel.accessAllowed) {\n",
              "        return;\n",
              "      }\n",
              "      const div = document.createElement('div');\n",
              "      const label = document.createElement('label');\n",
              "      label.textContent = `Downloading \"${filename}\": `;\n",
              "      div.appendChild(label);\n",
              "      const progress = document.createElement('progress');\n",
              "      progress.max = size;\n",
              "      div.appendChild(progress);\n",
              "      document.body.appendChild(div);\n",
              "\n",
              "      const buffers = [];\n",
              "      let downloaded = 0;\n",
              "\n",
              "      const channel = await google.colab.kernel.comms.open(id);\n",
              "      // Send a message to notify the kernel that we're ready.\n",
              "      channel.send({})\n",
              "\n",
              "      for await (const message of channel.messages) {\n",
              "        // Send a message to notify the kernel that we're ready.\n",
              "        channel.send({})\n",
              "        if (message.buffers) {\n",
              "          for (const buffer of message.buffers) {\n",
              "            buffers.push(buffer);\n",
              "            downloaded += buffer.byteLength;\n",
              "            progress.value = downloaded;\n",
              "          }\n",
              "        }\n",
              "      }\n",
              "      const blob = new Blob(buffers, {type: 'application/binary'});\n",
              "      const a = document.createElement('a');\n",
              "      a.href = window.URL.createObjectURL(blob);\n",
              "      a.download = filename;\n",
              "      div.appendChild(a);\n",
              "      a.click();\n",
              "      div.remove();\n",
              "    }\n",
              "  "
            ]
          },
          "metadata": {}
        },
        {
          "output_type": "display_data",
          "data": {
            "text/plain": [
              "<IPython.core.display.Javascript object>"
            ],
            "application/javascript": [
              "download(\"download_ee5e0bc8-4cd9-40ef-b53c-f2b645e94694\", \"WK1_Airbnb_Amsterdam_listings_proj_solution.csv\", 926100)"
            ]
          },
          "metadata": {}
        }
      ],
      "source": [
        "from google.colab import files\n",
        "\n",
        "# Download the file locally\n",
        "files.download('WK1_Airbnb_Amsterdam_listings_proj_solution.csv')"
      ],
      "id": "x0nVFL3_6bCC"
    },
    {
      "cell_type": "markdown",
      "metadata": {
        "id": "C-EkAreK9aH3"
      },
      "source": [
        "### Make an App for Your Portfolio!\n",
        "\n",
        "<center>\n",
        "  <img src=https://griddb-pro.azureedge.net/en/wp-content/uploads/2021/08/streamlit-1160x650.png width=\"500\" align=\"center\" />\n",
        "</center>\n",
        "<br/>\n",
        "\n",
        "**Participants such as yourselves often want to use the weekly CoRise projects for their portfolios. To facilitate that, we've created this section. It might seem like a lot, but it's actually just following instructions and copy-pasting. Reach out on Slack if you get stuck!** \n",
        "\n",
        "You will make an app that visualizes the dataset as a DataFrame and as a geographic visualization like:\n",
        "\n",
        "<center>\n",
        "  <img src=https://i.ibb.co/gRhj6Jd/Screen-Shot-2022-11-10-at-3-58-17-PM.png width=\"500\" align=\"center\" />\n",
        "</center>\n",
        "<br/>\n",
        "\n",
        "Five out of the six columns in the dataset are used as so:\n",
        "- **Listing_id**: Ignored for visualization purposes\n",
        "- **Price**: Hovering over a blue/red dot displays in **bold** the price at the top\n",
        "- **Latitude**: Used to plot the blue/red dot on the map\n",
        "- **Longitude**: Used to plot the blue/red dot on the map\n",
        "- **Meters from favorite point**: Hovering over a blue/red dot displays the number of meters from the blue point\n",
        "- **Color**: Dependent on the category its assigned\n",
        "\n",
        "To visualize this, we will again use a library called [Streamlit](https://streamlit.io/). For now you are not expected to know how Streamlit works, but you are expected to be able to copy-paste and follow instructions if you want to share this project as part of your portfolio!\n",
        "\n",
        "We are going to use [Streamlit Share](https://share.streamlit.io/) to host your projects. It's a website that allows us to host our interactive projects for free online! Again, we don't expect you to understand how to use and/or modify the code we will show below. We do expect you to read the instructions and copy-paste our code to the Streamlit Share platform. Feel free to change it any way you like. Some great starting points are [here](https://python.plainenglish.io/how-to-build-web-app-using-streamlit-pandas-numpy-5e134f0cf552), [here](https://docs.streamlit.io/library/get-started/create-an-app), [here](https://streamlit.io/components), and [here](https://streamlit.io/gallery)!\n",
        "\n",
        "*Please make sure to change the currency symbol in the code below to the appropriate one if you've chosen something other than GBP/pound.*"
      ],
      "id": "C-EkAreK9aH3"
    },
    {
      "cell_type": "code",
      "execution_count": null,
      "metadata": {
        "colab": {
          "base_uri": "https://localhost:8080/"
        },
        "id": "RMq6a-RfIn4U",
        "outputId": "f949ce38-827f-4aae-ed95-0630b1ce7e62"
      },
      "outputs": [
        {
          "output_type": "stream",
          "name": "stdout",
          "text": [
            "Overwriting streamlit_app.py\n"
          ]
        }
      ],
      "source": [
        "%%writefile streamlit_app.py\n",
        "import pandas as pd\n",
        "import plotly.express as px\n",
        "import streamlit as st\n",
        "\n",
        "# Display title and text\n",
        "st.title(\"Week 1 - Data and visualization\")\n",
        "st.markdown(\"Here we can see the dataframe created during this weeks project.\")\n",
        "\n",
        "# Read dataframe\n",
        "dataframe = pd.read_csv(\n",
        "    \"WK1_Airbnb_Amsterdam_listings_proj_solution.csv\",\n",
        "    names=[\n",
        "        \"id\",\n",
        "        \"price\",\n",
        "        \"latitude\",\n",
        "        \"longitude\",\n",
        "        \"Meters from chosen location\",\n",
        "        \"Location\",\n",
        "    ],\n",
        ")\n",
        "\n",
        "# We have a limited budget, therefore we would like to exclude\n",
        "# listings with a price above 100 pounds per night\n",
        "dataframe = dataframe[dataframe[\"price\"] <= 100]\n",
        "\n",
        "# Display as integer\n",
        "dataframe[\"id\"] = dataframe[\"id\"].astype(int)\n",
        "# Round of values\n",
        "dataframe[\"price\"] = \"EUR\" + dataframe[ \"price\"].round(2).astype(str) # <--- CHANGE THIS POUND SYMBOL IF YOU CHOSE CURRENCY OTHER THAN POUND\n",
        "# Rename the number to a string\n",
        "dataframe[\"Location\"] = dataframe[\"Location\"].replace(\n",
        "    {1.0: \"To visit\", 0.0: \"Airbnb listing\"}\n",
        ")\n",
        "\n",
        "# Display dataframe and text\n",
        "st.dataframe(dataframe)\n",
        "st.markdown(\"Below is a map showing all the Airbnb listings with a red dot and the location we've chosen with a blue dot.\")\n",
        "\n",
        "# Create the plotly express figure\n",
        "fig = px.scatter_mapbox(\n",
        "    dataframe,\n",
        "    lat=\"Latitude\",\n",
        "    lon=\"Longitude\",\n",
        "    color=\"Location\",\n",
        "    zoom=11,\n",
        "    height=500,\n",
        "    width=800,\n",
        "    hover_name=\"Price\",\n",
        "    hover_data=[\"Meters from chosen location\", \"Location\"],\n",
        "    labels={\"color\": \"Locations\"},\n",
        ")\n",
        "fig.update_geos(center=dict(lat=dataframe.iloc[0][2], lon=dataframe.iloc[0][3]))\n",
        "fig.update_layout(mapbox_style=\"stamen-terrain\")\n",
        "\n",
        "# Show the figure\n",
        "st.plotly_chart(fig, use_container_width=True)"
      ],
      "id": "RMq6a-RfIn4U"
    },
    {
      "cell_type": "markdown",
      "metadata": {
        "id": "OQ2XhKtchCr9"
      },
      "source": [
        "The **%%writefile [FILE_NAME].[FILE_EXTENSION]** command let's us save the code written in the cells in your Google Colab instance. Having it saved like that enables us to download it as a file, as seen below:"
      ],
      "id": "OQ2XhKtchCr9"
    },
    {
      "cell_type": "code",
      "execution_count": null,
      "metadata": {
        "colab": {
          "base_uri": "https://localhost:8080/",
          "height": 17
        },
        "id": "zZw7Ynwr9h3Z",
        "outputId": "f91e93ac-d73c-4e8e-c099-fcbc44a684ff"
      },
      "outputs": [
        {
          "output_type": "display_data",
          "data": {
            "text/plain": [
              "<IPython.core.display.Javascript object>"
            ],
            "application/javascript": [
              "\n",
              "    async function download(id, filename, size) {\n",
              "      if (!google.colab.kernel.accessAllowed) {\n",
              "        return;\n",
              "      }\n",
              "      const div = document.createElement('div');\n",
              "      const label = document.createElement('label');\n",
              "      label.textContent = `Downloading \"${filename}\": `;\n",
              "      div.appendChild(label);\n",
              "      const progress = document.createElement('progress');\n",
              "      progress.max = size;\n",
              "      div.appendChild(progress);\n",
              "      document.body.appendChild(div);\n",
              "\n",
              "      const buffers = [];\n",
              "      let downloaded = 0;\n",
              "\n",
              "      const channel = await google.colab.kernel.comms.open(id);\n",
              "      // Send a message to notify the kernel that we're ready.\n",
              "      channel.send({})\n",
              "\n",
              "      for await (const message of channel.messages) {\n",
              "        // Send a message to notify the kernel that we're ready.\n",
              "        channel.send({})\n",
              "        if (message.buffers) {\n",
              "          for (const buffer of message.buffers) {\n",
              "            buffers.push(buffer);\n",
              "            downloaded += buffer.byteLength;\n",
              "            progress.value = downloaded;\n",
              "          }\n",
              "        }\n",
              "      }\n",
              "      const blob = new Blob(buffers, {type: 'application/binary'});\n",
              "      const a = document.createElement('a');\n",
              "      a.href = window.URL.createObjectURL(blob);\n",
              "      a.download = filename;\n",
              "      div.appendChild(a);\n",
              "      a.click();\n",
              "      div.remove();\n",
              "    }\n",
              "  "
            ]
          },
          "metadata": {}
        },
        {
          "output_type": "display_data",
          "data": {
            "text/plain": [
              "<IPython.core.display.Javascript object>"
            ],
            "application/javascript": [
              "download(\"download_297d20b4-0e5f-438e-9cb6-d748c32fe6b0\", \"streamlit_app.py\", 1674)"
            ]
          },
          "metadata": {}
        }
      ],
      "source": [
        "from google.colab import files\n",
        "\n",
        "# Download the file locally\n",
        "files.download('streamlit_app.py')"
      ],
      "id": "zZw7Ynwr9h3Z"
    },
    {
      "cell_type": "code",
      "execution_count": null,
      "metadata": {
        "colab": {
          "base_uri": "https://localhost:8080/"
        },
        "id": "B-qGmYOHNUQN",
        "outputId": "9b5c708d-f7db-4e3e-dc7d-8d7c176a5b5b"
      },
      "outputs": [
        {
          "output_type": "stream",
          "name": "stdout",
          "text": [
            "Overwriting requirements.txt\n"
          ]
        }
      ],
      "source": [
        "%%writefile requirements.txt\n",
        "pandas\n",
        "streamlit\n",
        "plotly"
      ],
      "id": "B-qGmYOHNUQN"
    },
    {
      "cell_type": "code",
      "execution_count": null,
      "metadata": {
        "colab": {
          "base_uri": "https://localhost:8080/",
          "height": 17
        },
        "id": "AXjHxtJXNVZf",
        "outputId": "2fb2c9d4-0a8f-4edb-a7a4-5c0ca626af15"
      },
      "outputs": [
        {
          "output_type": "display_data",
          "data": {
            "text/plain": [
              "<IPython.core.display.Javascript object>"
            ],
            "application/javascript": [
              "\n",
              "    async function download(id, filename, size) {\n",
              "      if (!google.colab.kernel.accessAllowed) {\n",
              "        return;\n",
              "      }\n",
              "      const div = document.createElement('div');\n",
              "      const label = document.createElement('label');\n",
              "      label.textContent = `Downloading \"${filename}\": `;\n",
              "      div.appendChild(label);\n",
              "      const progress = document.createElement('progress');\n",
              "      progress.max = size;\n",
              "      div.appendChild(progress);\n",
              "      document.body.appendChild(div);\n",
              "\n",
              "      const buffers = [];\n",
              "      let downloaded = 0;\n",
              "\n",
              "      const channel = await google.colab.kernel.comms.open(id);\n",
              "      // Send a message to notify the kernel that we're ready.\n",
              "      channel.send({})\n",
              "\n",
              "      for await (const message of channel.messages) {\n",
              "        // Send a message to notify the kernel that we're ready.\n",
              "        channel.send({})\n",
              "        if (message.buffers) {\n",
              "          for (const buffer of message.buffers) {\n",
              "            buffers.push(buffer);\n",
              "            downloaded += buffer.byteLength;\n",
              "            progress.value = downloaded;\n",
              "          }\n",
              "        }\n",
              "      }\n",
              "      const blob = new Blob(buffers, {type: 'application/binary'});\n",
              "      const a = document.createElement('a');\n",
              "      a.href = window.URL.createObjectURL(blob);\n",
              "      a.download = filename;\n",
              "      div.appendChild(a);\n",
              "      a.click();\n",
              "      div.remove();\n",
              "    }\n",
              "  "
            ]
          },
          "metadata": {}
        },
        {
          "output_type": "display_data",
          "data": {
            "text/plain": [
              "<IPython.core.display.Javascript object>"
            ],
            "application/javascript": [
              "download(\"download_20f15fbf-d2e2-48b5-ab9e-8b3e9ce5f645\", \"requirements.txt\", 24)"
            ]
          },
          "metadata": {}
        }
      ],
      "source": [
        "from google.colab import files\n",
        "\n",
        "# Download the file locally\n",
        "files.download('requirements.txt')"
      ],
      "id": "AXjHxtJXNVZf"
    },
    {
      "cell_type": "markdown",
      "metadata": {
        "id": "pkmVcoiWQL6s"
      },
      "source": [
        "Please verify that you've downloaded three files:\n",
        "- `WK1_Airbnb_Amsterdam_listings_proj_solution.csv`\n",
        "- `streamlit_app.py`\n",
        "- `requirements.txt`\n",
        "\n",
        "Now let's head over to GitHub and [create an account](https://github.com/signup).\n",
        "\n",
        "Then, since you are logged in [go to GitHub.com](https://github.com) and click on the **+** icon at the top-right corner and select **New repository**.\n",
        "\n",
        "<center>\n",
        "  <img src=https://i.ibb.co/4gkPBCp/Screen-Shot-2022-11-28-at-1-51-02-PM.png width=\"300\" align=\"center\" />\n",
        "</center>\n",
        "<br/>\n",
        "\n",
        "Here you provide:\n",
        "- **Repository name**: Up to you\n",
        "- **License**: Up to you. We recommend **apache-2.0**.\n",
        "\n",
        "- **Public or private?** Public, otherwise you can't host it on [Streamlit Share](https://share.streamlit.io)!\n",
        "\n",
        "<center>\n",
        "  <img src=https://i.ibb.co/0B533dw/Screen-Shot-2022-11-28-at-1-55-14-PM.png width=\"450\" align=\"center\" />\n",
        "</center>\n",
        "<br/>\n",
        "\n",
        "Then upload the three files to this URL below. ***Please modify it before copy-pasting it***:\n",
        "\n",
        "```https://github.com/[YOUR_ACCOUNT_NAME]/[YOUR_REPOSITORY_NAME]/upload/main```\n",
        "\n",
        "<center>\n",
        "  <img src=https://i.ibb.co/jTsrgJw/Screen-Shot-2022-11-28-at-1-58-31-PM.png width=\"500\" align=\"center\" />\n",
        "</center>\n",
        "<br/>\n",
        "\n",
        "Commit directly to the `main` branch, then click **Commit changes**.\n",
        "\n",
        "Next, you have to create an account on [Streamlit Share](https://share.streamlit.io/signup). \n",
        "\n",
        "<center>\n",
        "  <img src=https://i.ibb.co/znFngJc/Screen-Shot-2022-11-28-at-1-59-47-PM.png width=\"500\" align=\"center\" />\n",
        "</center>\n",
        "<br/>\n",
        "\n",
        "It's recommended to click **Continue with GitHub**. \n",
        "\n",
        "Then, select **New app** **>** **Deploy a new app...** **>** **From existing repo**.\n",
        "\n",
        "<center>\n",
        "  <img src=https://i.ibb.co/VQPQzt3/Screen-Shot-2022-11-28-at-2-05-04-PM.png width=\"500\" align=\"center\" />\n",
        "</center>\n",
        "\n",
        "Followed by providing your:\n",
        "\n",
        "```[GITHUB_ACCOUNT_NAME]/[GITHUB_REPOSITORY]```\n",
        "\n",
        "<center>\n",
        "  <img src=https://i.ibb.co/PDSQccD/Screen-Shot-2022-11-28-at-2-10-47-PM.png width=\"500\" align=\"center\" />\n",
        "</center>\n",
        "\n",
        "You will have to wait around 1-5 minutes, then an automatic hyperlink is generated for your new website. An example is this app:\n",
        "\n",
        "```https://[GITHUB_ACCOUNT_NAME]-[GITHUB_REPOSITORY]-[RANDOM_6_LETTER_STRING].streamlit.app/```\n",
        "\n",
        "***Please modify the link before copy-pasting it.***"
      ],
      "id": "pkmVcoiWQL6s"
    },
    {
      "cell_type": "markdown",
      "metadata": {
        "id": "6b63286a-e574-4284-96de-a6793f94a2f0"
      },
      "source": [
        "---\n",
        "\n",
        "# 🎉 CONGRATULATIONS!\n",
        "\n",
        "You've made it to the end of the Week 1 assignment! You should be proud. \n",
        "\n",
        "If you have any lingering questions, post them on Slack! As you know, we're always here to help.\n",
        "\n",
        "And if you want any additional challenge questions, check out the bonus extensions below.\n",
        "\n",
        "---\n",
        "\n",
        "## Extensions (Optional)\n",
        "\n",
        "<center>\n",
        "  <img src=https://miro.medium.com/max/4800/1*qd9TMO5j_wLxDbPT7qkdxw.png width=\"500\" align=\"center\" />\n",
        "</center>\n",
        "<br/>\n",
        "\n",
        "We invite you to try and see if you can apply [Numba](https://numba.pydata.org/) to the project and potentially speed up some of these calculations. This is a tool commonly used in the industry to make code run faster. \n",
        "\n",
        "Another experiment you could try (if you have access to a GPU) is to see if running your code via [CuPy](https://cupy.dev/) speeds up your implementation. A great way to start is described in [this post](https://medium.com/data-analysis-center/a-practical-approach-to-speed-up-python-code-numba-numpy-cupy-65ab52526ad4).\n",
        "\n",
        "Lastly, Can't get enough of Numpy 🥰? Try [this tutorial on Kaggle](https://www.kaggle.com/code/legendadnan/numpy-tutorial-for-beginners-data-science/notebook), which covers some more interesting NumPy uses.\n",
        "\n",
        "# Next Up?\n",
        "Next week we will delve into Pandas, a Python library focused on tabular data instead of matrixed data. We'll show you how those are different, and how you'll be able to harness Pandas for your machine learning journey with Python!"
      ],
      "id": "6b63286a-e574-4284-96de-a6793f94a2f0"
    }
  ],
  "metadata": {
    "colab": {
      "provenance": [],
      "collapsed_sections": [
        "440efa8a-3c39-4615-a65a-e8ba956d6a9f",
        "3580b8ee-594a-4a79-8207-df656f23450c",
        "08eb3f54-9af1-483a-b6ac-354d6c77d77e",
        "1d059854-9eba-4c1e-bfbd-3aea2f3017ad",
        "bab0fd01-6c42-46eb-b68a-28e66d63c2c6",
        "7G3KvDaeF9YD"
      ],
      "include_colab_link": true
    },
    "kernelspec": {
      "display_name": "Python 3 (ipykernel)",
      "language": "python",
      "name": "python3"
    },
    "language_info": {
      "codemirror_mode": {
        "name": "ipython",
        "version": 3
      },
      "file_extension": ".py",
      "mimetype": "text/x-python",
      "name": "python",
      "nbconvert_exporter": "python",
      "pygments_lexer": "ipython3",
      "version": "3.10.4"
    }
  },
  "nbformat": 4,
  "nbformat_minor": 5
}